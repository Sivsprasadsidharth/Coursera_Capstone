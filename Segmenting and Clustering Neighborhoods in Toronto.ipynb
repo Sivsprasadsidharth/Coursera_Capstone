{
    "cells": [
        {
            "cell_type": "code",
            "execution_count": 3,
            "metadata": {},
            "outputs": [],
            "source": "import numpy as np \n\nimport pandas as pd \npd.set_option('display.max_columns', None)\npd.set_option('display.max_rows', None)"
        },
        {
            "cell_type": "code",
            "execution_count": 4,
            "metadata": {},
            "outputs": [],
            "source": "import urllib.request\nfrom bs4 import BeautifulSoup\n"
        },
        {
            "cell_type": "markdown",
            "metadata": {},
            "source": "# 1.Scapping Wikipedia Page"
        },
        {
            "cell_type": "code",
            "execution_count": 5,
            "metadata": {},
            "outputs": [],
            "source": "url = \"https://en.wikipedia.org/wiki/List_of_postal_codes_of_Canada:_M\"\npage = urllib.request.urlopen(url)"
        },
        {
            "cell_type": "code",
            "execution_count": 6,
            "metadata": {},
            "outputs": [],
            "source": "soup = BeautifulSoup(page, \"lxml\")"
        },
        {
            "cell_type": "code",
            "execution_count": 102,
            "metadata": {},
            "outputs": [
                {
                    "ename": "SyntaxError",
                    "evalue": "can't assign to function call (<ipython-input-102-7fe6a9bb18af>, line 2)",
                    "output_type": "error",
                    "traceback": [
                        "\u001b[0;36m  File \u001b[0;32m\"<ipython-input-102-7fe6a9bb18af>\"\u001b[0;36m, line \u001b[0;32m2\u001b[0m\n\u001b[0;31m    cells[0].find(text=True) = cells[0].find(text=True)[:-1]\u001b[0m\n\u001b[0m                                                            ^\u001b[0m\n\u001b[0;31mSyntaxError\u001b[0m\u001b[0;31m:\u001b[0m can't assign to function call\n"
                    ]
                }
            ],
            "source": ""
        },
        {
            "cell_type": "code",
            "execution_count": 48,
            "metadata": {},
            "outputs": [],
            "source": "right_table=soup.find('table', class_='wikitable sortable')\n"
        },
        {
            "cell_type": "code",
            "execution_count": 44,
            "metadata": {},
            "outputs": [],
            "source": "A=[]\nB=[]\nC=[]\n\nfor row in right_table.findAll('tr'):\n    cells=row.findAll('td')\n    if (len(cells)==3 and cells[1].find(text=True)!='Not assigned\\n' ):\n        A.append(cells[0].find(text=True))\n        B.append(cells[1].find(text=True))\n        C.append(cells[2].find(text=True))"
        },
        {
            "cell_type": "code",
            "execution_count": 45,
            "metadata": {},
            "outputs": [],
            "source": "df=pd.DataFrame(A,columns=['PostalCode'])\ndf['Borough']=B\ndf['Neighborhood']=C"
        },
        {
            "cell_type": "code",
            "execution_count": 46,
            "metadata": {},
            "outputs": [
                {
                    "data": {
                        "text/html": "<div>\n<style scoped>\n    .dataframe tbody tr th:only-of-type {\n        vertical-align: middle;\n    }\n\n    .dataframe tbody tr th {\n        vertical-align: top;\n    }\n\n    .dataframe thead th {\n        text-align: right;\n    }\n</style>\n<table border=\"1\" class=\"dataframe\">\n  <thead>\n    <tr style=\"text-align: right;\">\n      <th></th>\n      <th>PostalCode</th>\n      <th>Borough</th>\n      <th>Neighborhood</th>\n    </tr>\n  </thead>\n  <tbody>\n    <tr>\n      <th>0</th>\n      <td>M3A</td>\n      <td>North York</td>\n      <td>Parkwoods</td>\n    </tr>\n    <tr>\n      <th>1</th>\n      <td>M4A</td>\n      <td>North York</td>\n      <td>Victoria Village</td>\n    </tr>\n    <tr>\n      <th>2</th>\n      <td>M5A</td>\n      <td>Downtown Toronto</td>\n      <td>Regent Park, Harbourfront</td>\n    </tr>\n    <tr>\n      <th>3</th>\n      <td>M6A</td>\n      <td>North York</td>\n      <td>Lawrence Manor, Lawrence Heights</td>\n    </tr>\n    <tr>\n      <th>4</th>\n      <td>M7A</td>\n      <td>Downtown Toronto</td>\n      <td>Queen's Park, Ontario Provincial Government</td>\n    </tr>\n    <tr>\n      <th>5</th>\n      <td>M9A</td>\n      <td>Etobicoke</td>\n      <td>Islington Avenue, Humber Valley Village</td>\n    </tr>\n    <tr>\n      <th>6</th>\n      <td>M1B</td>\n      <td>Scarborough</td>\n      <td>Malvern, Rouge</td>\n    </tr>\n    <tr>\n      <th>7</th>\n      <td>M3B</td>\n      <td>North York</td>\n      <td>Don Mills</td>\n    </tr>\n    <tr>\n      <th>8</th>\n      <td>M4B</td>\n      <td>East York</td>\n      <td>Parkview Hill, Woodbine Gardens</td>\n    </tr>\n    <tr>\n      <th>9</th>\n      <td>M5B</td>\n      <td>Downtown Toronto</td>\n      <td>Garden District, Ryerson</td>\n    </tr>\n    <tr>\n      <th>10</th>\n      <td>M6B</td>\n      <td>North York</td>\n      <td>Glencairn</td>\n    </tr>\n    <tr>\n      <th>11</th>\n      <td>M9B</td>\n      <td>Etobicoke</td>\n      <td>West Deane Park, Princess Gardens, Martin Grov...</td>\n    </tr>\n    <tr>\n      <th>12</th>\n      <td>M1C</td>\n      <td>Scarborough</td>\n      <td>Rouge Hill, Port Union, Highland Creek</td>\n    </tr>\n    <tr>\n      <th>13</th>\n      <td>M3C</td>\n      <td>North York</td>\n      <td>Don Mills</td>\n    </tr>\n    <tr>\n      <th>14</th>\n      <td>M4C</td>\n      <td>East York</td>\n      <td>Woodbine Heights</td>\n    </tr>\n    <tr>\n      <th>15</th>\n      <td>M5C</td>\n      <td>Downtown Toronto</td>\n      <td>St. James Town</td>\n    </tr>\n    <tr>\n      <th>16</th>\n      <td>M6C</td>\n      <td>York</td>\n      <td>Humewood-Cedarvale</td>\n    </tr>\n    <tr>\n      <th>17</th>\n      <td>M9C</td>\n      <td>Etobicoke</td>\n      <td>Eringate, Bloordale Gardens, Old Burnhamthorpe...</td>\n    </tr>\n    <tr>\n      <th>18</th>\n      <td>M1E</td>\n      <td>Scarborough</td>\n      <td>Guildwood, Morningside, West Hill</td>\n    </tr>\n    <tr>\n      <th>19</th>\n      <td>M4E</td>\n      <td>East Toronto</td>\n      <td>The Beaches</td>\n    </tr>\n    <tr>\n      <th>20</th>\n      <td>M5E</td>\n      <td>Downtown Toronto</td>\n      <td>Berczy Park</td>\n    </tr>\n    <tr>\n      <th>21</th>\n      <td>M6E</td>\n      <td>York</td>\n      <td>Caledonia-Fairbanks</td>\n    </tr>\n    <tr>\n      <th>22</th>\n      <td>M1G</td>\n      <td>Scarborough</td>\n      <td>Woburn</td>\n    </tr>\n    <tr>\n      <th>23</th>\n      <td>M4G</td>\n      <td>East York</td>\n      <td>Leaside</td>\n    </tr>\n    <tr>\n      <th>24</th>\n      <td>M5G</td>\n      <td>Downtown Toronto</td>\n      <td>Central Bay Street</td>\n    </tr>\n    <tr>\n      <th>25</th>\n      <td>M6G</td>\n      <td>Downtown Toronto</td>\n      <td>Christie</td>\n    </tr>\n    <tr>\n      <th>26</th>\n      <td>M1H</td>\n      <td>Scarborough</td>\n      <td>Cedarbrae</td>\n    </tr>\n    <tr>\n      <th>27</th>\n      <td>M2H</td>\n      <td>North York</td>\n      <td>Hillcrest Village</td>\n    </tr>\n    <tr>\n      <th>28</th>\n      <td>M3H</td>\n      <td>North York</td>\n      <td>Bathurst Manor, Wilson Heights, Downsview North</td>\n    </tr>\n    <tr>\n      <th>29</th>\n      <td>M4H</td>\n      <td>East York</td>\n      <td>Thorncliffe Park</td>\n    </tr>\n    <tr>\n      <th>30</th>\n      <td>M5H</td>\n      <td>Downtown Toronto</td>\n      <td>Richmond, Adelaide, King</td>\n    </tr>\n    <tr>\n      <th>31</th>\n      <td>M6H</td>\n      <td>West Toronto</td>\n      <td>Dufferin, Dovercourt Village</td>\n    </tr>\n    <tr>\n      <th>32</th>\n      <td>M1J</td>\n      <td>Scarborough</td>\n      <td>Scarborough Village</td>\n    </tr>\n    <tr>\n      <th>33</th>\n      <td>M2J</td>\n      <td>North York</td>\n      <td>Fairview, Henry Farm, Oriole</td>\n    </tr>\n    <tr>\n      <th>34</th>\n      <td>M3J</td>\n      <td>North York</td>\n      <td>Northwood Park, York University</td>\n    </tr>\n    <tr>\n      <th>35</th>\n      <td>M4J</td>\n      <td>East York</td>\n      <td>East Toronto, Broadview North (Old East York)</td>\n    </tr>\n    <tr>\n      <th>36</th>\n      <td>M5J</td>\n      <td>Downtown Toronto</td>\n      <td>Harbourfront East, Union Station, Toronto Isla...</td>\n    </tr>\n    <tr>\n      <th>37</th>\n      <td>M6J</td>\n      <td>West Toronto</td>\n      <td>Little Portugal, Trinity</td>\n    </tr>\n    <tr>\n      <th>38</th>\n      <td>M1K</td>\n      <td>Scarborough</td>\n      <td>Kennedy Park, Ionview, East Birchmount Park</td>\n    </tr>\n    <tr>\n      <th>39</th>\n      <td>M2K</td>\n      <td>North York</td>\n      <td>Bayview Village</td>\n    </tr>\n    <tr>\n      <th>40</th>\n      <td>M3K</td>\n      <td>North York</td>\n      <td>Downsview</td>\n    </tr>\n    <tr>\n      <th>41</th>\n      <td>M4K</td>\n      <td>East Toronto</td>\n      <td>The Danforth West, Riverdale</td>\n    </tr>\n    <tr>\n      <th>42</th>\n      <td>M5K</td>\n      <td>Downtown Toronto</td>\n      <td>Toronto Dominion Centre, Design Exchange</td>\n    </tr>\n    <tr>\n      <th>43</th>\n      <td>M6K</td>\n      <td>West Toronto</td>\n      <td>Brockton, Parkdale Village, Exhibition Place</td>\n    </tr>\n    <tr>\n      <th>44</th>\n      <td>M1L</td>\n      <td>Scarborough</td>\n      <td>Golden Mile, Clairlea, Oakridge</td>\n    </tr>\n    <tr>\n      <th>45</th>\n      <td>M2L</td>\n      <td>North York</td>\n      <td>York Mills, Silver Hills</td>\n    </tr>\n    <tr>\n      <th>46</th>\n      <td>M3L</td>\n      <td>North York</td>\n      <td>Downsview</td>\n    </tr>\n    <tr>\n      <th>47</th>\n      <td>M4L</td>\n      <td>East Toronto</td>\n      <td>India Bazaar, The Beaches West</td>\n    </tr>\n    <tr>\n      <th>48</th>\n      <td>M5L</td>\n      <td>Downtown Toronto</td>\n      <td>Commerce Court, Victoria Hotel</td>\n    </tr>\n    <tr>\n      <th>49</th>\n      <td>M6L</td>\n      <td>North York</td>\n      <td>North Park, Maple Leaf Park, Upwood Park</td>\n    </tr>\n    <tr>\n      <th>50</th>\n      <td>M9L</td>\n      <td>North York</td>\n      <td>Humber Summit</td>\n    </tr>\n    <tr>\n      <th>51</th>\n      <td>M1M</td>\n      <td>Scarborough</td>\n      <td>Cliffside, Cliffcrest, Scarborough Village West</td>\n    </tr>\n    <tr>\n      <th>52</th>\n      <td>M2M</td>\n      <td>North York</td>\n      <td>Willowdale, Newtonbrook</td>\n    </tr>\n    <tr>\n      <th>53</th>\n      <td>M3M</td>\n      <td>North York</td>\n      <td>Downsview</td>\n    </tr>\n    <tr>\n      <th>54</th>\n      <td>M4M</td>\n      <td>East Toronto</td>\n      <td>Studio District</td>\n    </tr>\n    <tr>\n      <th>55</th>\n      <td>M5M</td>\n      <td>North York</td>\n      <td>Bedford Park, Lawrence Manor East</td>\n    </tr>\n    <tr>\n      <th>56</th>\n      <td>M6M</td>\n      <td>York</td>\n      <td>Del Ray, Mount Dennis, Keelsdale and Silverthorn</td>\n    </tr>\n    <tr>\n      <th>57</th>\n      <td>M9M</td>\n      <td>North York</td>\n      <td>Humberlea, Emery</td>\n    </tr>\n    <tr>\n      <th>58</th>\n      <td>M1N</td>\n      <td>Scarborough</td>\n      <td>Birch Cliff, Cliffside West</td>\n    </tr>\n    <tr>\n      <th>59</th>\n      <td>M2N</td>\n      <td>North York</td>\n      <td>Willowdale, Willowdale East</td>\n    </tr>\n    <tr>\n      <th>60</th>\n      <td>M3N</td>\n      <td>North York</td>\n      <td>Downsview</td>\n    </tr>\n    <tr>\n      <th>61</th>\n      <td>M4N</td>\n      <td>Central Toronto</td>\n      <td>Lawrence Park</td>\n    </tr>\n    <tr>\n      <th>62</th>\n      <td>M5N</td>\n      <td>Central Toronto</td>\n      <td>Roselawn</td>\n    </tr>\n    <tr>\n      <th>63</th>\n      <td>M6N</td>\n      <td>York</td>\n      <td>Runnymede, The Junction North</td>\n    </tr>\n    <tr>\n      <th>64</th>\n      <td>M9N</td>\n      <td>York</td>\n      <td>Weston</td>\n    </tr>\n    <tr>\n      <th>65</th>\n      <td>M1P</td>\n      <td>Scarborough</td>\n      <td>Dorset Park, Wexford Heights, Scarborough Town...</td>\n    </tr>\n    <tr>\n      <th>66</th>\n      <td>M2P</td>\n      <td>North York</td>\n      <td>York Mills West</td>\n    </tr>\n    <tr>\n      <th>67</th>\n      <td>M4P</td>\n      <td>Central Toronto</td>\n      <td>Davisville North</td>\n    </tr>\n    <tr>\n      <th>68</th>\n      <td>M5P</td>\n      <td>Central Toronto</td>\n      <td>Forest Hill North &amp; West, Forest Hill Road Park</td>\n    </tr>\n    <tr>\n      <th>69</th>\n      <td>M6P</td>\n      <td>West Toronto</td>\n      <td>High Park, The Junction South</td>\n    </tr>\n    <tr>\n      <th>70</th>\n      <td>M9P</td>\n      <td>Etobicoke</td>\n      <td>Westmount</td>\n    </tr>\n    <tr>\n      <th>71</th>\n      <td>M1R</td>\n      <td>Scarborough</td>\n      <td>Wexford, Maryvale</td>\n    </tr>\n    <tr>\n      <th>72</th>\n      <td>M2R</td>\n      <td>North York</td>\n      <td>Willowdale, Willowdale West</td>\n    </tr>\n    <tr>\n      <th>73</th>\n      <td>M4R</td>\n      <td>Central Toronto</td>\n      <td>North Toronto West,  Lawrence Park</td>\n    </tr>\n    <tr>\n      <th>74</th>\n      <td>M5R</td>\n      <td>Central Toronto</td>\n      <td>The Annex, North Midtown, Yorkville</td>\n    </tr>\n    <tr>\n      <th>75</th>\n      <td>M6R</td>\n      <td>West Toronto</td>\n      <td>Parkdale, Roncesvalles</td>\n    </tr>\n    <tr>\n      <th>76</th>\n      <td>M7R</td>\n      <td>Mississauga</td>\n      <td>Canada Post Gateway Processing Centre</td>\n    </tr>\n    <tr>\n      <th>77</th>\n      <td>M9R</td>\n      <td>Etobicoke</td>\n      <td>Kingsview Village, St. Phillips, Martin Grove ...</td>\n    </tr>\n    <tr>\n      <th>78</th>\n      <td>M1S</td>\n      <td>Scarborough</td>\n      <td>Agincourt</td>\n    </tr>\n    <tr>\n      <th>79</th>\n      <td>M4S</td>\n      <td>Central Toronto</td>\n      <td>Davisville</td>\n    </tr>\n    <tr>\n      <th>80</th>\n      <td>M5S</td>\n      <td>Downtown Toronto</td>\n      <td>University of Toronto, Harbord</td>\n    </tr>\n    <tr>\n      <th>81</th>\n      <td>M6S</td>\n      <td>West Toronto</td>\n      <td>Runnymede, Swansea</td>\n    </tr>\n    <tr>\n      <th>82</th>\n      <td>M1T</td>\n      <td>Scarborough</td>\n      <td>Clarks Corners, Tam O'Shanter, Sullivan</td>\n    </tr>\n    <tr>\n      <th>83</th>\n      <td>M4T</td>\n      <td>Central Toronto</td>\n      <td>Moore Park, Summerhill East</td>\n    </tr>\n    <tr>\n      <th>84</th>\n      <td>M5T</td>\n      <td>Downtown Toronto</td>\n      <td>Kensington Market, Chinatown, Grange Park</td>\n    </tr>\n    <tr>\n      <th>85</th>\n      <td>M1V</td>\n      <td>Scarborough</td>\n      <td>Milliken, Agincourt North, Steeles East, L'Amo...</td>\n    </tr>\n    <tr>\n      <th>86</th>\n      <td>M4V</td>\n      <td>Central Toronto</td>\n      <td>Summerhill West, Rathnelly, South Hill, Forest...</td>\n    </tr>\n    <tr>\n      <th>87</th>\n      <td>M5V</td>\n      <td>Downtown Toronto</td>\n      <td>CN Tower, King and Spadina, Railway Lands, Har...</td>\n    </tr>\n    <tr>\n      <th>88</th>\n      <td>M8V</td>\n      <td>Etobicoke</td>\n      <td>New Toronto, Mimico South, Humber Bay Shores</td>\n    </tr>\n    <tr>\n      <th>89</th>\n      <td>M9V</td>\n      <td>Etobicoke</td>\n      <td>South Steeles, Silverstone, Humbergate, Jamest...</td>\n    </tr>\n    <tr>\n      <th>90</th>\n      <td>M1W</td>\n      <td>Scarborough</td>\n      <td>Steeles West, L'Amoreaux West</td>\n    </tr>\n    <tr>\n      <th>91</th>\n      <td>M4W</td>\n      <td>Downtown Toronto</td>\n      <td>Rosedale</td>\n    </tr>\n    <tr>\n      <th>92</th>\n      <td>M5W</td>\n      <td>Downtown Toronto</td>\n      <td>Stn A PO Boxes</td>\n    </tr>\n    <tr>\n      <th>93</th>\n      <td>M8W</td>\n      <td>Etobicoke</td>\n      <td>Alderwood, Long Branch</td>\n    </tr>\n    <tr>\n      <th>94</th>\n      <td>M9W</td>\n      <td>Etobicoke</td>\n      <td>Northwest, West Humber - Clairville</td>\n    </tr>\n    <tr>\n      <th>95</th>\n      <td>M1X</td>\n      <td>Scarborough</td>\n      <td>Upper Rouge</td>\n    </tr>\n    <tr>\n      <th>96</th>\n      <td>M4X</td>\n      <td>Downtown Toronto</td>\n      <td>St. James Town, Cabbagetown</td>\n    </tr>\n    <tr>\n      <th>97</th>\n      <td>M5X</td>\n      <td>Downtown Toronto</td>\n      <td>First Canadian Place, Underground city</td>\n    </tr>\n    <tr>\n      <th>98</th>\n      <td>M8X</td>\n      <td>Etobicoke</td>\n      <td>The Kingsway, Montgomery Road, Old Mill North</td>\n    </tr>\n    <tr>\n      <th>99</th>\n      <td>M4Y</td>\n      <td>Downtown Toronto</td>\n      <td>Church and Wellesley</td>\n    </tr>\n    <tr>\n      <th>100</th>\n      <td>M7Y</td>\n      <td>East Toronto</td>\n      <td>Business reply mail Processing Centre, South C...</td>\n    </tr>\n    <tr>\n      <th>101</th>\n      <td>M8Y</td>\n      <td>Etobicoke</td>\n      <td>Old Mill South, King's Mill Park, Sunnylea, Hu...</td>\n    </tr>\n    <tr>\n      <th>102</th>\n      <td>M8Z</td>\n      <td>Etobicoke</td>\n      <td>Mimico NW, The Queensway West, South of Bloor,...</td>\n    </tr>\n  </tbody>\n</table>\n</div>",
                        "text/plain": "    PostalCode            Borough  \\\n0         M3A\n        North York\n   \n1         M4A\n        North York\n   \n2         M5A\n  Downtown Toronto\n   \n3         M6A\n        North York\n   \n4         M7A\n  Downtown Toronto\n   \n5         M9A\n         Etobicoke\n   \n6         M1B\n       Scarborough\n   \n7         M3B\n        North York\n   \n8         M4B\n         East York\n   \n9         M5B\n  Downtown Toronto\n   \n10        M6B\n        North York\n   \n11        M9B\n         Etobicoke\n   \n12        M1C\n       Scarborough\n   \n13        M3C\n        North York\n   \n14        M4C\n         East York\n   \n15        M5C\n  Downtown Toronto\n   \n16        M6C\n              York\n   \n17        M9C\n         Etobicoke\n   \n18        M1E\n       Scarborough\n   \n19        M4E\n      East Toronto\n   \n20        M5E\n  Downtown Toronto\n   \n21        M6E\n              York\n   \n22        M1G\n       Scarborough\n   \n23        M4G\n         East York\n   \n24        M5G\n  Downtown Toronto\n   \n25        M6G\n  Downtown Toronto\n   \n26        M1H\n       Scarborough\n   \n27        M2H\n        North York\n   \n28        M3H\n        North York\n   \n29        M4H\n         East York\n   \n30        M5H\n  Downtown Toronto\n   \n31        M6H\n      West Toronto\n   \n32        M1J\n       Scarborough\n   \n33        M2J\n        North York\n   \n34        M3J\n        North York\n   \n35        M4J\n         East York\n   \n36        M5J\n  Downtown Toronto\n   \n37        M6J\n      West Toronto\n   \n38        M1K\n       Scarborough\n   \n39        M2K\n        North York\n   \n40        M3K\n        North York\n   \n41        M4K\n      East Toronto\n   \n42        M5K\n  Downtown Toronto\n   \n43        M6K\n      West Toronto\n   \n44        M1L\n       Scarborough\n   \n45        M2L\n        North York\n   \n46        M3L\n        North York\n   \n47        M4L\n      East Toronto\n   \n48        M5L\n  Downtown Toronto\n   \n49        M6L\n        North York\n   \n50        M9L\n        North York\n   \n51        M1M\n       Scarborough\n   \n52        M2M\n        North York\n   \n53        M3M\n        North York\n   \n54        M4M\n      East Toronto\n   \n55        M5M\n        North York\n   \n56        M6M\n              York\n   \n57        M9M\n        North York\n   \n58        M1N\n       Scarborough\n   \n59        M2N\n        North York\n   \n60        M3N\n        North York\n   \n61        M4N\n   Central Toronto\n   \n62        M5N\n   Central Toronto\n   \n63        M6N\n              York\n   \n64        M9N\n              York\n   \n65        M1P\n       Scarborough\n   \n66        M2P\n        North York\n   \n67        M4P\n   Central Toronto\n   \n68        M5P\n   Central Toronto\n   \n69        M6P\n      West Toronto\n   \n70        M9P\n         Etobicoke\n   \n71        M1R\n       Scarborough\n   \n72        M2R\n        North York\n   \n73        M4R\n   Central Toronto\n   \n74        M5R\n   Central Toronto\n   \n75        M6R\n      West Toronto\n   \n76        M7R\n       Mississauga\n   \n77        M9R\n         Etobicoke\n   \n78        M1S\n       Scarborough\n   \n79        M4S\n   Central Toronto\n   \n80        M5S\n  Downtown Toronto\n   \n81        M6S\n      West Toronto\n   \n82        M1T\n       Scarborough\n   \n83        M4T\n   Central Toronto\n   \n84        M5T\n  Downtown Toronto\n   \n85        M1V\n       Scarborough\n   \n86        M4V\n   Central Toronto\n   \n87        M5V\n  Downtown Toronto\n   \n88        M8V\n         Etobicoke\n   \n89        M9V\n         Etobicoke\n   \n90        M1W\n       Scarborough\n   \n91        M4W\n  Downtown Toronto\n   \n92        M5W\n  Downtown Toronto\n   \n93        M8W\n         Etobicoke\n   \n94        M9W\n         Etobicoke\n   \n95        M1X\n       Scarborough\n   \n96        M4X\n  Downtown Toronto\n   \n97        M5X\n  Downtown Toronto\n   \n98        M8X\n         Etobicoke\n   \n99        M4Y\n  Downtown Toronto\n   \n100       M7Y\n      East Toronto\n   \n101       M8Y\n         Etobicoke\n   \n102       M8Z\n         Etobicoke\n   \n\n                                          Neighborhood  \n0                                           Parkwoods\n  \n1                                    Victoria Village\n  \n2                           Regent Park, Harbourfront\n  \n3                    Lawrence Manor, Lawrence Heights\n  \n4         Queen's Park, Ontario Provincial Government\n  \n5             Islington Avenue, Humber Valley Village\n  \n6                                      Malvern, Rouge\n  \n7                                           Don Mills\n  \n8                     Parkview Hill, Woodbine Gardens\n  \n9                            Garden District, Ryerson\n  \n10                                          Glencairn\n  \n11   West Deane Park, Princess Gardens, Martin Grov...  \n12             Rouge Hill, Port Union, Highland Creek\n  \n13                                          Don Mills\n  \n14                                   Woodbine Heights\n  \n15                                     St. James Town\n  \n16                                 Humewood-Cedarvale\n  \n17   Eringate, Bloordale Gardens, Old Burnhamthorpe...  \n18                  Guildwood, Morningside, West Hill\n  \n19                                        The Beaches\n  \n20                                        Berczy Park\n  \n21                                Caledonia-Fairbanks\n  \n22                                             Woburn\n  \n23                                            Leaside\n  \n24                                 Central Bay Street\n  \n25                                           Christie\n  \n26                                          Cedarbrae\n  \n27                                  Hillcrest Village\n  \n28    Bathurst Manor, Wilson Heights, Downsview North\n  \n29                                   Thorncliffe Park\n  \n30                           Richmond, Adelaide, King\n  \n31                       Dufferin, Dovercourt Village\n  \n32                                Scarborough Village\n  \n33                       Fairview, Henry Farm, Oriole\n  \n34                    Northwood Park, York University\n  \n35      East Toronto, Broadview North (Old East York)\n  \n36   Harbourfront East, Union Station, Toronto Isla...  \n37                           Little Portugal, Trinity\n  \n38        Kennedy Park, Ionview, East Birchmount Park\n  \n39                                    Bayview Village\n  \n40                                          Downsview\n  \n41                       The Danforth West, Riverdale\n  \n42           Toronto Dominion Centre, Design Exchange\n  \n43       Brockton, Parkdale Village, Exhibition Place\n  \n44                    Golden Mile, Clairlea, Oakridge\n  \n45                           York Mills, Silver Hills\n  \n46                                          Downsview\n  \n47                     India Bazaar, The Beaches West\n  \n48                     Commerce Court, Victoria Hotel\n  \n49           North Park, Maple Leaf Park, Upwood Park\n  \n50                                      Humber Summit\n  \n51    Cliffside, Cliffcrest, Scarborough Village West\n  \n52                            Willowdale, Newtonbrook\n  \n53                                          Downsview\n  \n54                                    Studio District\n  \n55                  Bedford Park, Lawrence Manor East\n  \n56   Del Ray, Mount Dennis, Keelsdale and Silverthorn\n  \n57                                   Humberlea, Emery\n  \n58                        Birch Cliff, Cliffside West\n  \n59                        Willowdale, Willowdale East\n  \n60                                          Downsview\n  \n61                                      Lawrence Park\n  \n62                                           Roselawn\n  \n63                      Runnymede, The Junction North\n  \n64                                             Weston\n  \n65   Dorset Park, Wexford Heights, Scarborough Town...  \n66                                    York Mills West\n  \n67                                   Davisville North\n  \n68    Forest Hill North & West, Forest Hill Road Park\n  \n69                      High Park, The Junction South\n  \n70                                          Westmount\n  \n71                                  Wexford, Maryvale\n  \n72                        Willowdale, Willowdale West\n  \n73                 North Toronto West,  Lawrence Park\n  \n74                The Annex, North Midtown, Yorkville\n  \n75                             Parkdale, Roncesvalles\n  \n76              Canada Post Gateway Processing Centre\n  \n77   Kingsview Village, St. Phillips, Martin Grove ...  \n78                                          Agincourt\n  \n79                                         Davisville\n  \n80                     University of Toronto, Harbord\n  \n81                                 Runnymede, Swansea\n  \n82            Clarks Corners, Tam O'Shanter, Sullivan\n  \n83                        Moore Park, Summerhill East\n  \n84          Kensington Market, Chinatown, Grange Park\n  \n85   Milliken, Agincourt North, Steeles East, L'Amo...  \n86   Summerhill West, Rathnelly, South Hill, Forest...  \n87   CN Tower, King and Spadina, Railway Lands, Har...  \n88       New Toronto, Mimico South, Humber Bay Shores\n  \n89   South Steeles, Silverstone, Humbergate, Jamest...  \n90                      Steeles West, L'Amoreaux West\n  \n91                                           Rosedale\n  \n92                                     Stn A PO Boxes\n  \n93                             Alderwood, Long Branch\n  \n94                Northwest, West Humber - Clairville\n  \n95                                        Upper Rouge\n  \n96                        St. James Town, Cabbagetown\n  \n97             First Canadian Place, Underground city\n  \n98      The Kingsway, Montgomery Road, Old Mill North\n  \n99                               Church and Wellesley\n  \n100  Business reply mail Processing Centre, South C...  \n101  Old Mill South, King's Mill Park, Sunnylea, Hu...  \n102  Mimico NW, The Queensway West, South of Bloor,...  "
                    },
                    "execution_count": 46,
                    "metadata": {},
                    "output_type": "execute_result"
                }
            ],
            "source": "df"
        },
        {
            "cell_type": "code",
            "execution_count": 47,
            "metadata": {},
            "outputs": [
                {
                    "data": {
                        "text/plain": "(103, 3)"
                    },
                    "execution_count": 47,
                    "metadata": {},
                    "output_type": "execute_result"
                }
            ],
            "source": "df.shape"
        },
        {
            "cell_type": "markdown",
            "metadata": {},
            "source": "# Latitude and Longitude "
        },
        {
            "cell_type": "code",
            "execution_count": 75,
            "metadata": {},
            "outputs": [],
            "source": "url=\"http://cocl.us/Geospatial_data\"\nll=pd.read_csv(url)"
        },
        {
            "cell_type": "code",
            "execution_count": 84,
            "metadata": {},
            "outputs": [],
            "source": "ll.set_index(\"Postal Code\", inplace=True)"
        },
        {
            "cell_type": "code",
            "execution_count": 106,
            "metadata": {},
            "outputs": [],
            "source": "L=[]\nK=[]\nfor loc in df['PostalCode']:\n    s=loc[:-1]\n    L.append(ll.loc[str(s)]['Latitude'])\n    K.append(ll.loc[str(s)]['Longitude'])\n    "
        },
        {
            "cell_type": "code",
            "execution_count": 107,
            "metadata": {},
            "outputs": [
                {
                    "data": {
                        "text/plain": "[43.7532586,\n 43.725882299999995,\n 43.6542599,\n 43.718517999999996,\n 43.6623015,\n 43.6678556,\n 43.806686299999996,\n 43.745905799999996,\n 43.7063972,\n 43.6571618,\n 43.709577,\n 43.6509432,\n 43.7845351,\n 43.72589970000001,\n 43.695343900000005,\n 43.6514939,\n 43.6937813,\n 43.6435152,\n 43.7635726,\n 43.67635739999999,\n 43.644770799999996,\n 43.6890256,\n 43.7709921,\n 43.7090604,\n 43.6579524,\n 43.669542,\n 43.773136,\n 43.8037622,\n 43.7543283,\n 43.7053689,\n 43.65057120000001,\n 43.66900510000001,\n 43.7447342,\n 43.7785175,\n 43.7679803,\n 43.685347,\n 43.6408157,\n 43.647926700000006,\n 43.7279292,\n 43.7869473,\n 43.737473200000004,\n 43.6795571,\n 43.6471768,\n 43.6368472,\n 43.711111700000004,\n 43.7574902,\n 43.7390146,\n 43.6689985,\n 43.6481985,\n 43.713756200000006,\n 43.7563033,\n 43.716316,\n 43.789053,\n 43.7284964,\n 43.6595255,\n 43.7332825,\n 43.6911158,\n 43.7247659,\n 43.692657000000004,\n 43.7701199,\n 43.7616313,\n 43.7280205,\n 43.7116948,\n 43.67318529999999,\n 43.706876,\n 43.7574096,\n 43.752758299999996,\n 43.7127511,\n 43.6969476,\n 43.6616083,\n 43.696319,\n 43.750071500000004,\n 43.7827364,\n 43.7153834,\n 43.6727097,\n 43.6489597,\n 43.6369656,\n 43.6889054,\n 43.7942003,\n 43.7043244,\n 43.6626956,\n 43.6515706,\n 43.7816375,\n 43.6895743,\n 43.6532057,\n 43.8152522,\n 43.68641229999999,\n 43.6289467,\n 43.6056466,\n 43.739416399999996,\n 43.799525200000005,\n 43.6795626,\n 43.6464352,\n 43.60241370000001,\n 43.706748299999994,\n 43.836124700000006,\n 43.667967,\n 43.6484292,\n 43.653653600000005,\n 43.6658599,\n 43.6627439,\n 43.6362579,\n 43.6288408]"
                    },
                    "execution_count": 107,
                    "metadata": {},
                    "output_type": "execute_result"
                }
            ],
            "source": "df['Latitude']=B\ndf['Longitude']=C"
        },
        {
            "cell_type": "code",
            "execution_count": null,
            "metadata": {},
            "outputs": [],
            "source": ""
        }
    ],
    "metadata": {
        "kernelspec": {
            "display_name": "Python 3.6",
            "language": "python",
            "name": "python3"
        },
        "language_info": {
            "codemirror_mode": {
                "name": "ipython",
                "version": 3
            },
            "file_extension": ".py",
            "mimetype": "text/x-python",
            "name": "python",
            "nbconvert_exporter": "python",
            "pygments_lexer": "ipython3",
            "version": "3.6.9"
        }
    },
    "nbformat": 4,
    "nbformat_minor": 1
}